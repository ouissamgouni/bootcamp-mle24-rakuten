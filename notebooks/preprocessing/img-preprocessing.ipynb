{
 "cells": [
  {
   "cell_type": "markdown",
   "metadata": {},
   "source": [
    "# RAKUTEN Data Classification Challenge\n",
    "\n",
    "## Images Preprocessing"
   ]
  },
  {
   "cell_type": "markdown",
   "metadata": {},
   "source": [
    "### Constraints\n",
    "\n",
    "- Lot of Data (~ 100k imgs)\n",
    "- Large Data (~ 0.28 Go)\n",
    "- Algo exec speed (for recommandation / research on Website : < 500 ms)\n",
    "- Some categories are very close and difficult to split\n",
    "- Some categories seems to be simply missclassified\n",
    "- Unbalanced categories"
   ]
  },
  {
   "cell_type": "markdown",
   "metadata": {},
   "source": [
    "### Data Optimisation\n",
    "\n",
    "- Selection of a subsample of each category for training models (20% ?)\n",
    "- Image size reduction\n",
    "- Image Color reduction (grayscaling, etc.)\n",
    "- Data augmentation (Oversampling)"
   ]
  },
  {
   "cell_type": "markdown",
   "metadata": {},
   "source": [
    "### 1st step : PCA (Principal Component Analysis) & LLE (Locally Linear Embedding)\n",
    "\n",
    "- Feature reduction while keeping variance\n",
    "- Try Classifier at the output (RF, DT, etc.) to check result\n",
    "\n",
    "### 2nd step : Let libs do the data optimisation\n",
    "\n",
    "- Like keras.preprocessing ImageDataGenerator\n",
    "- No special need to do it by hand..."
   ]
  },
  {
   "cell_type": "markdown",
   "metadata": {},
   "source": [
    "### Models\n",
    "\n",
    "#### CNN (Convolutional Neural Networks):\n",
    "- Vision Transformer ViT\n",
    "- EfficientNet\n",
    "- ResNet\n",
    "- DenseNet\n",
    "- RegNet\n",
    "- Swin Transformer\n",
    "- VGG\n",
    "- Inception\n",
    "- MobileNet\n",
    "\n",
    "#### Multimodal (text + image):\n",
    "- CLiP Open AI\n",
    "- Visual BERT\n",
    "- Uniter\n",
    "- VL-BERT\n",
    "- LXMERT\n"
   ]
  },
  {
   "cell_type": "markdown",
   "metadata": {},
   "source": [
    "### Strategy\n",
    "\n",
    "1) Try different models on 27 categories with GridSearchCV and compare results\n",
    "\n",
    "2) Try 2 layers of models:\n",
    "- 1st layer : 5 categories\n",
    "- 2nd layer : 2 to 8 categories (for 5 subnetworks) -> see \"prdtypecode-classification.xlsx\" in same folder"
   ]
  },
  {
   "cell_type": "markdown",
   "metadata": {},
   "source": [
    "### Next step:\n",
    "\n",
    "- PCA & LLE Analysis\n",
    "- Data preprocessing example with keras\n",
    "- Model comparison table (run time, pre-training, etc.)"
   ]
  },
  {
   "cell_type": "markdown",
   "metadata": {},
   "source": []
  }
 ],
 "metadata": {
  "kernelspec": {
   "display_name": "Python 3",
   "language": "python",
   "name": "python3"
  },
  "language_info": {
   "codemirror_mode": {
    "name": "ipython",
    "version": 3
   },
   "file_extension": ".py",
   "mimetype": "text/x-python",
   "name": "python",
   "nbconvert_exporter": "python",
   "pygments_lexer": "ipython3",
   "version": "3.11.7"
  }
 },
 "nbformat": 4,
 "nbformat_minor": 2
}
